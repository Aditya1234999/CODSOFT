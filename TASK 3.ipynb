{
 "cells": [
  {
   "cell_type": "code",
   "execution_count": null,
   "id": "daab390d-6c68-4292-889c-b49021354467",
   "metadata": {},
   "outputs": [],
   "source": [
    "# Rock, Paper, Scissors game Program"
   ]
  },
  {
   "cell_type": "code",
   "execution_count": null,
   "id": "15ed6c36-48da-4914-815c-887765e65e23",
   "metadata": {},
   "outputs": [
    {
     "name": "stdout",
     "output_type": "stream",
     "text": [
      "\n",
      "Rock, Paper, Scissors Game!\n",
      "Type 'rock', 'paper', or 'scissors' to play. Type 'exit' to quit.\n"
     ]
    },
    {
     "name": "stdin",
     "output_type": "stream",
     "text": [
      "Your choice:  rock\n"
     ]
    },
    {
     "name": "stdout",
     "output_type": "stream",
     "text": [
      "Computer chose: rock\n",
      "It's a tie!\n",
      "Score - You: 0 | Computer: 0\n",
      "\n",
      "Rock, Paper, Scissors Game!\n",
      "Type 'rock', 'paper', or 'scissors' to play. Type 'exit' to quit.\n"
     ]
    },
    {
     "name": "stdin",
     "output_type": "stream",
     "text": [
      "Your choice:  paper\n"
     ]
    },
    {
     "name": "stdout",
     "output_type": "stream",
     "text": [
      "Computer chose: paper\n",
      "It's a tie!\n",
      "Score - You: 0 | Computer: 0\n",
      "\n",
      "Rock, Paper, Scissors Game!\n",
      "Type 'rock', 'paper', or 'scissors' to play. Type 'exit' to quit.\n"
     ]
    },
    {
     "name": "stdin",
     "output_type": "stream",
     "text": [
      "Your choice:  scissors\n"
     ]
    },
    {
     "name": "stdout",
     "output_type": "stream",
     "text": [
      "Computer chose: paper\n",
      "You win!\n",
      "Score - You: 1 | Computer: 0\n",
      "\n",
      "Rock, Paper, Scissors Game!\n",
      "Type 'rock', 'paper', or 'scissors' to play. Type 'exit' to quit.\n"
     ]
    }
   ],
   "source": [
    "import random\n",
    "\n",
    "def get_computer_choice():\n",
    "    return random.choice([\"rock\", \"paper\", \"scissors\"])\n",
    "\n",
    "def determine_winner(user_choice, computer_choice):\n",
    "    if user_choice == computer_choice:\n",
    "        return \"It's a tie!\"\n",
    "    elif (user_choice == \"rock\" and computer_choice == \"scissors\") or \\\n",
    "         (user_choice == \"scissors\" and computer_choice == \"paper\") or \\\n",
    "         (user_choice == \"paper\" and computer_choice == \"rock\"):\n",
    "        return \"You win!\"\n",
    "    else:\n",
    "        return \"You lose!\"\n",
    "\n",
    "def play_game():\n",
    "    user_score = 0\n",
    "    computer_score = 0\n",
    "\n",
    "    while True:\n",
    "        print(\"\\nRock, Paper, Scissors Game!\")\n",
    "        print(\"Type 'rock', 'paper', or 'scissors' to play. Type 'exit' to quit.\")\n",
    "        \n",
    "        user_choice = input(\"Your choice: \").lower()\n",
    "\n",
    "        if user_choice == \"exit\":\n",
    "            print(\"Thanks for playing! Final Score - You:\", user_score, \"| Computer:\", computer_score)\n",
    "            break\n",
    "\n",
    "        if user_choice not in [\"rock\", \"paper\", \"scissors\"]:\n",
    "            print(\"Invalid choice! Please try again.\")\n",
    "            continue\n",
    "\n",
    "        computer_choice = get_computer_choice()\n",
    "        print(f\"Computer chose: {computer_choice}\")\n",
    "\n",
    "        result = determine_winner(user_choice, computer_choice)\n",
    "        print(result)\n",
    "\n",
    "        if \"win\" in result:\n",
    "            user_score += 1\n",
    "        elif \"lose\" in result:\n",
    "            computer_score += 1\n",
    "\n",
    "        print(f\"Score - You: {user_score} | Computer: {computer_score}\")\n",
    "\n",
    "play_game()"
   ]
  },
  {
   "cell_type": "code",
   "execution_count": null,
   "id": "fc1e24be-26ad-4c9b-8bf9-85d1c9cae55d",
   "metadata": {},
   "outputs": [],
   "source": []
  }
 ],
 "metadata": {
  "kernelspec": {
   "display_name": "Python 3 (ipykernel)",
   "language": "python",
   "name": "python3"
  },
  "language_info": {
   "codemirror_mode": {
    "name": "ipython",
    "version": 3
   },
   "file_extension": ".py",
   "mimetype": "text/x-python",
   "name": "python",
   "nbconvert_exporter": "python",
   "pygments_lexer": "ipython3",
   "version": "3.12.4"
  }
 },
 "nbformat": 4,
 "nbformat_minor": 5
}
