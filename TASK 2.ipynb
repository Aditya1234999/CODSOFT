{
 "cells": [
  {
   "cell_type": "code",
   "execution_count": 1,
   "id": "275cf103-48c3-44dc-9bad-ab20152b4952",
   "metadata": {},
   "outputs": [],
   "source": [
    "#CONTACT BOOK PROGRAM"
   ]
  },
  {
   "cell_type": "code",
   "execution_count": 2,
   "id": "027b5d2a-e346-408a-826b-7b9ac01373a3",
   "metadata": {},
   "outputs": [
    {
     "name": "stdout",
     "output_type": "stream",
     "text": [
      "=== Contact Management System ===\n",
      "1. Add Contact\n",
      "2. View Contacts\n",
      "3. Search Contact\n",
      "4. Update Contact\n",
      "5. Delete Contact\n",
      "6. Exit\n"
     ]
    },
    {
     "name": "stdin",
     "output_type": "stream",
     "text": [
      "Choose an option:  1\n",
      "Enter name:  Aditya\n",
      "Enter phone number:  8830292797\n",
      "Enter email:  aditya@gmail.com\n",
      "Enter address:  Kedgaon\n"
     ]
    },
    {
     "name": "stdout",
     "output_type": "stream",
     "text": [
      "Contact added successfully!\n",
      "\n",
      "=== Contact Management System ===\n",
      "1. Add Contact\n",
      "2. View Contacts\n",
      "3. Search Contact\n",
      "4. Update Contact\n",
      "5. Delete Contact\n",
      "6. Exit\n"
     ]
    },
    {
     "name": "stdin",
     "output_type": "stream",
     "text": [
      "Choose an option:  2\n"
     ]
    },
    {
     "name": "stdout",
     "output_type": "stream",
     "text": [
      "\n",
      "Contact List:\n",
      "1. Aditya - 8830292797\n",
      "\n",
      "=== Contact Management System ===\n",
      "1. Add Contact\n",
      "2. View Contacts\n",
      "3. Search Contact\n",
      "4. Update Contact\n",
      "5. Delete Contact\n",
      "6. Exit\n"
     ]
    },
    {
     "name": "stdin",
     "output_type": "stream",
     "text": [
      "Choose an option:  3\n",
      "Enter name or phone number to search:  Aditya\n"
     ]
    },
    {
     "name": "stdout",
     "output_type": "stream",
     "text": [
      "\n",
      "Name: Aditya\n",
      "Phone: 8830292797\n",
      "Email: aditya@gmail.com\n",
      "Address: Kedgaon\n",
      "\n",
      "=== Contact Management System ===\n",
      "1. Add Contact\n",
      "2. View Contacts\n",
      "3. Search Contact\n",
      "4. Update Contact\n",
      "5. Delete Contact\n",
      "6. Exit\n"
     ]
    },
    {
     "name": "stdin",
     "output_type": "stream",
     "text": [
      "Choose an option:  4\n",
      "Enter the name of the contact to update:  Aditya\n",
      "Enter new phone number:  343434343434\n",
      "Enter new email:  akd@gmail.com\n",
      "Enter new address:  Nagar\n"
     ]
    },
    {
     "name": "stdout",
     "output_type": "stream",
     "text": [
      "Contact updated successfully!\n",
      "\n",
      "=== Contact Management System ===\n",
      "1. Add Contact\n",
      "2. View Contacts\n",
      "3. Search Contact\n",
      "4. Update Contact\n",
      "5. Delete Contact\n",
      "6. Exit\n"
     ]
    },
    {
     "name": "stdin",
     "output_type": "stream",
     "text": [
      "Choose an option:  5\n",
      "Enter the name of the contact to delete:  Aditya\n"
     ]
    },
    {
     "name": "stdout",
     "output_type": "stream",
     "text": [
      "Contact deleted successfully!\n",
      "\n",
      "=== Contact Management System ===\n",
      "1. Add Contact\n",
      "2. View Contacts\n",
      "3. Search Contact\n",
      "4. Update Contact\n",
      "5. Delete Contact\n",
      "6. Exit\n"
     ]
    },
    {
     "name": "stdin",
     "output_type": "stream",
     "text": [
      "Choose an option:  2\n"
     ]
    },
    {
     "name": "stdout",
     "output_type": "stream",
     "text": [
      "No contacts found.\n",
      "\n",
      "=== Contact Management System ===\n",
      "1. Add Contact\n",
      "2. View Contacts\n",
      "3. Search Contact\n",
      "4. Update Contact\n",
      "5. Delete Contact\n",
      "6. Exit\n"
     ]
    },
    {
     "name": "stdin",
     "output_type": "stream",
     "text": [
      "Choose an option:  6\n"
     ]
    },
    {
     "name": "stdout",
     "output_type": "stream",
     "text": [
      "Exiting... Goodbye!\n"
     ]
    }
   ],
   "source": [
    "###### Simple Contact Management System in Python\n",
    "\n",
    "contacts = []\n",
    "\n",
    "def add_contact():\n",
    "    name = input(\"Enter name: \")\n",
    "    phone = input(\"Enter phone number: \")\n",
    "    email = input(\"Enter email: \")\n",
    "    address = input(\"Enter address: \")\n",
    "    contacts.append({\n",
    "        \"name\": name,\n",
    "        \"phone\": phone,\n",
    "        \"email\": email,\n",
    "        \"address\": address\n",
    "    })\n",
    "    print(\"Contact added successfully!\\n\")\n",
    "\n",
    "def view_contacts():\n",
    "    if not contacts:\n",
    "        print(\"No contacts found.\\n\")\n",
    "        return\n",
    "    print(\"\\nContact List:\")\n",
    "    for i, contact in enumerate(contacts, 1):\n",
    "        print(f\"{i}. {contact['name']} - {contact['phone']}\")\n",
    "    print()\n",
    "\n",
    "def search_contact():\n",
    "    keyword = input(\"Enter name or phone number to search: \").lower()\n",
    "    found = False\n",
    "    for contact in contacts:\n",
    "        if keyword in contact['name'].lower() or keyword in contact['phone']:\n",
    "            print(f\"\\nName: {contact['name']}\")\n",
    "            print(f\"Phone: {contact['phone']}\")\n",
    "            print(f\"Email: {contact['email']}\")\n",
    "            print(f\"Address: {contact['address']}\\n\")\n",
    "            found = True\n",
    "    if not found:\n",
    "        print(\"No matching contact found.\\n\")\n",
    "\n",
    "def update_contact():\n",
    "    name = input(\"Enter the name of the contact to update: \").lower()\n",
    "    for contact in contacts:\n",
    "        if contact['name'].lower() == name:\n",
    "            contact['phone'] = input(\"Enter new phone number: \")\n",
    "            contact['email'] = input(\"Enter new email: \")\n",
    "            contact['address'] = input(\"Enter new address: \")\n",
    "            print(\"Contact updated successfully!\\n\")\n",
    "            return\n",
    "    print(\"Contact not found.\\n\")\n",
    "\n",
    "def delete_contact():\n",
    "    name = input(\"Enter the name of the contact to delete: \").lower()\n",
    "    for contact in contacts:\n",
    "        if contact['name'].lower() == name:\n",
    "            contacts.remove(contact)\n",
    "            print(\"Contact deleted successfully!\\n\")\n",
    "            return\n",
    "    print(\"Contact not found.\\n\")\n",
    "\n",
    "def main():\n",
    "    while True:\n",
    "        print(\"=== Contact Management System ===\")\n",
    "        print(\"1. Add Contact\")\n",
    "        print(\"2. View Contacts\")\n",
    "        print(\"3. Search Contact\")\n",
    "        print(\"4. Update Contact\")\n",
    "        print(\"5. Delete Contact\")\n",
    "        print(\"6. Exit\")\n",
    "        choice = input(\"Choose an option: \")\n",
    "\n",
    "        if choice == '1':\n",
    "            add_contact()\n",
    "        elif choice == '2':\n",
    "            view_contacts()\n",
    "        elif choice == '3':\n",
    "            search_contact()\n",
    "        elif choice == '4':\n",
    "            update_contact()\n",
    "        elif choice == '5':\n",
    "            delete_contact()\n",
    "        elif choice == '6':\n",
    "            print(\"Exiting... Goodbye!\")\n",
    "            break\n",
    "        else:\n",
    "            print(\"Invalid choice. Please try again.\\n\")\n",
    "\n",
    "if __name__ == \"__main__\":\n",
    "    main()"
   ]
  },
  {
   "cell_type": "code",
   "execution_count": null,
   "id": "136fac88-c6cc-42fd-b3e1-2cecd343899e",
   "metadata": {},
   "outputs": [],
   "source": []
  }
 ],
 "metadata": {
  "kernelspec": {
   "display_name": "Python 3 (ipykernel)",
   "language": "python",
   "name": "python3"
  },
  "language_info": {
   "codemirror_mode": {
    "name": "ipython",
    "version": 3
   },
   "file_extension": ".py",
   "mimetype": "text/x-python",
   "name": "python",
   "nbconvert_exporter": "python",
   "pygments_lexer": "ipython3",
   "version": "3.12.4"
  }
 },
 "nbformat": 4,
 "nbformat_minor": 5
}
